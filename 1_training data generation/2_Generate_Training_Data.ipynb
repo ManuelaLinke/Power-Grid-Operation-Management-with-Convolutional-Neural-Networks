{
 "cells": [
  {
   "cell_type": "markdown",
   "metadata": {},
   "source": [
    "# Generate Training Data\n",
    "\n",
    "**Author:** Manuela Linke & Gabriel Micard, HTWG Konstanz \n",
    "\n",
    "**Date:** 14.04.2024 \n",
    "\n",
    "**Summary:** This Script generates the training data for the training of the CNN. For more efficient generation through the application of parallelisation please use the Generate_Training_data.py Script as described in the README-File.\n",
    "\n",
    "Three steps:\n",
    "1) generation of load and generation data (all loads/generations vary within the values Pset, Pmax, 3*Pmax, - Pmax (to simulate PV generation))\n",
    "2) identification of problematic grid states (in basic switch and transformer configuration)\n",
    "3) finding the optimal solution for each problematic grid state individually\n",
    "    - best switching configuration with minimum change of topology\n",
    "    - if no configuration is able to bring the network into the specifications, it is indicated to the user and the configuration leading to the minimium deviation to the specification is indicated"
   ]
  },
  {
   "cell_type": "markdown",
   "metadata": {},
   "source": [
    "![Flowchart](../doc/img/Dataset_generation.png)"
   ]
  },
  {
   "cell_type": "code",
   "execution_count": 1,
   "metadata": {},
   "outputs": [],
   "source": [
    "# Load python packages\n",
    "from tqdm import tqdm\n",
    "import numpy as np\n",
    "import scipy \n",
    "import math\n",
    "import time as t\n",
    "from tqdm import tqdm\n",
    "import datetime as dt\n",
    "import os\n",
    "import itertools as it\n",
    "import pandas as pd\n",
    "\n",
    "import pandapower as pp\n",
    "from pandapower.plotting import simple_plot, pf_res_plotly\n",
    "from pandapower.plotting.plotly import simple_plotly\n",
    "import matplotlib.pyplot as plt"
   ]
  },
  {
   "cell_type": "markdown",
   "metadata": {},
   "source": [
    "## Import grid \n",
    "Saved in standart p format, load the set and maximum value for each load\n",
    "\n",
    "Our example grid: *Cossmic grid*"
   ]
  },
  {
   "cell_type": "code",
   "execution_count": 2,
   "metadata": {},
   "outputs": [],
   "source": [
    "import os\n",
    "\n",
    "#import the grid \n",
    "net = pp.from_pickle(\"cossmic_grid.p\")\n",
    "\n",
    "#import the loads file separately to get information about p_max and p_set values\n",
    "loads = pd.read_table(os.path.join('..', '0_data preparation', 'Cossmic_grid', 'grid-data', 'loads.csv'), sep=\",\")\n",
    "\n",
    "#import the allowed switch configurations\n",
    "allowed_sw = np.load(\"allowed_switches.npy\") \n",
    "\n",
    "# define the base configuration for the switches and transformer tap positions\n",
    "base_switch = net.switch.closed.loc[net.switch.et == 'l']        \n",
    "base_trafo = net.trafo.tap_pos  \n",
    "\n",
    "# set seed for generating random data\n",
    "seed = 42"
   ]
  },
  {
   "cell_type": "code",
   "execution_count": 3,
   "metadata": {},
   "outputs": [],
   "source": [
    "# define filenames with timestamp\n",
    "ts = t.time()\n",
    "strTime = dt.datetime.fromtimestamp(ts).strftime('%Y-%m-%d_%H-%M-%S')\n",
    "folder = os.path.join('data', 'preprocessed')\n",
    "if not os.path.exists(folder):\n",
    "    os.makedirs(folder)"
   ]
  },
  {
   "cell_type": "markdown",
   "metadata": {},
   "source": [
    "## Ansatz 1: Generate all combinations \n",
    "In case of the example grid 4.194.304 combinations"
   ]
  },
  {
   "cell_type": "code",
   "execution_count": 4,
   "metadata": {},
   "outputs": [],
   "source": [
    "state_lists = []\n",
    "for _, row in loads.iterrows():\n",
    "    states = [row['p_max'], row['p_set'], -row['p_max'], row['p_max']*3]\n",
    "    state_lists.append(states)\n",
    "\n",
    "# generate all possible combinations\n",
    "all_combinations = list(it.product(*state_lists))"
   ]
  },
  {
   "cell_type": "code",
   "execution_count": 5,
   "metadata": {},
   "outputs": [],
   "source": [
    "#result_df = pd.DataFrame(all_combinations, columns=loads.name)"
   ]
  },
  {
   "cell_type": "markdown",
   "metadata": {},
   "source": [
    "## Ansatz 2: Nur 3 x p_max oder 3 x -p_max\n",
    "- 3 loads are set at 3*pmax or at -pmax (to simulate PV generation)\n",
    "- the other loads are set at pmax or pset "
   ]
  },
  {
   "cell_type": "code",
   "execution_count": 6,
   "metadata": {},
   "outputs": [],
   "source": [
    "state_lists = []\n",
    "for _, row in loads.iterrows():\n",
    "    states = [row['p_max'], row['p_set']]\n",
    "    state_lists.append(states)\n",
    "\n",
    "# generate all possible combinations (in case of Cossmic Grids: 2048)\n",
    "all_combinations = list(it.product(*state_lists))\n",
    "\n",
    "df_combinations = pd.DataFrame(all_combinations, columns=loads.name)"
   ]
  },
  {
   "cell_type": "code",
   "execution_count": 7,
   "metadata": {},
   "outputs": [],
   "source": [
    "# setting all loads to false\n",
    "original_list = [False] * len(loads.name)\n",
    "\n",
    "# generate combinations of 3 \n",
    "index_combinations = list(it.combinations(range(len(loads.name)), 3))\n",
    "\n",
    "modified_lists = []\n",
    "\n",
    "# Modify the list by the generated combinations\n",
    "for indices in index_combinations:\n",
    "\n",
    "    modified_list = original_list.copy()\n",
    "    \n",
    "    # Setting the values to true of the combinations\n",
    "    for index in indices:\n",
    "        modified_list[index] = True\n",
    "    \n",
    "    # append to list\n",
    "    modified_lists.append(modified_list)"
   ]
  },
  {
   "cell_type": "code",
   "execution_count": 8,
   "metadata": {},
   "outputs": [
    {
     "name": "stdout",
     "output_type": "stream",
     "text": [
      "Time elapsed: 196.8 sec.\n"
     ]
    }
   ],
   "source": [
    "t0 = t.time()\n",
    "result_list = []\n",
    "\n",
    "for comb_index in df_combinations.index:\n",
    "    this_comb = df_combinations.loc[comb_index].copy()  \n",
    "    #print(this_comb)\n",
    "\n",
    "    for modified_list in modified_lists:\n",
    "        modified_comb_1 = this_comb.copy()  # Copy the current combination for modifications\n",
    "        modified_comb_2 = this_comb.copy()  # Copy the current combination for modifications\n",
    "        for index, element in enumerate(modified_list):\n",
    "            if element: \n",
    "\n",
    "                # Replace with the corresponding value from loads.p_max*3 or -loads.p_max\n",
    "                modified_comb_1.iloc[index] = loads.p_max.iloc[index] * 3\n",
    "                modified_comb_2.iloc[index] = -loads.p_max.iloc[index]\n",
    "        result_list.append(modified_comb_1)\n",
    "        result_list.append(modified_comb_2)\n",
    "\n",
    "all_results_df = pd.DataFrame(result_list, columns=loads.name)\n",
    "all_results_df.reset_index(drop=True, inplace=True)\n",
    "all_results_df = all_results_df.sample(frac=1, random_state=seed).reset_index(drop=True)\n",
    "ordered_columns = net.load['name'].tolist()\n",
    "all_results_df = all_results_df[ordered_columns]\n",
    "t1 = t.time()\n",
    "t_elapsed = t1-t0\n",
    "print(\"Time elapsed: %.1f sec.\" %t_elapsed)"
   ]
  },
  {
   "cell_type": "code",
   "execution_count": 9,
   "metadata": {},
   "outputs": [
    {
     "data": {
      "text/plain": [
       "675840"
      ]
     },
     "execution_count": 9,
     "metadata": {},
     "output_type": "execute_result"
    }
   ],
   "source": [
    "len(all_results_df)"
   ]
  },
  {
   "cell_type": "code",
   "execution_count": 10,
   "metadata": {},
   "outputs": [],
   "source": [
    "# save generated load data\n",
    "all_results_df.to_feather(\"data/raw/\" + strTime + \"_time_series_data.feather\")\n",
    "#all_results_df = pd.read_feather(file_path)"
   ]
  },
  {
   "cell_type": "code",
   "execution_count": 10,
   "metadata": {},
   "outputs": [],
   "source": [
    "# Since all_results_df has 675840 entries, take a smaller part of it:\n",
    "result_df = all_results_df[:1000]"
   ]
  },
  {
   "cell_type": "code",
   "execution_count": 11,
   "metadata": {},
   "outputs": [
    {
     "data": {
      "text/html": [
       "<div>\n",
       "<style scoped>\n",
       "    .dataframe tbody tr th:only-of-type {\n",
       "        vertical-align: middle;\n",
       "    }\n",
       "\n",
       "    .dataframe tbody tr th {\n",
       "        vertical-align: top;\n",
       "    }\n",
       "\n",
       "    .dataframe thead th {\n",
       "        text-align: right;\n",
       "    }\n",
       "</style>\n",
       "<table border=\"1\" class=\"dataframe\">\n",
       "  <thead>\n",
       "    <tr style=\"text-align: right;\">\n",
       "      <th>name</th>\n",
       "      <th>ind_1</th>\n",
       "      <th>ind_2</th>\n",
       "      <th>ind_3</th>\n",
       "      <th>res_1</th>\n",
       "      <th>res_2</th>\n",
       "      <th>res_3</th>\n",
       "      <th>res_4</th>\n",
       "      <th>res_5</th>\n",
       "      <th>res_6</th>\n",
       "      <th>pub_1</th>\n",
       "      <th>pub_2</th>\n",
       "    </tr>\n",
       "  </thead>\n",
       "  <tbody>\n",
       "    <tr>\n",
       "      <th>0</th>\n",
       "      <td>0.033</td>\n",
       "      <td>0.0112</td>\n",
       "      <td>0.2560</td>\n",
       "      <td>0.0067</td>\n",
       "      <td>0.00810</td>\n",
       "      <td>0.00520</td>\n",
       "      <td>0.00054</td>\n",
       "      <td>-0.00370</td>\n",
       "      <td>-0.00350</td>\n",
       "      <td>-0.0200</td>\n",
       "      <td>0.1920</td>\n",
       "    </tr>\n",
       "    <tr>\n",
       "      <th>1</th>\n",
       "      <td>0.163</td>\n",
       "      <td>-0.0112</td>\n",
       "      <td>-0.2560</td>\n",
       "      <td>0.0067</td>\n",
       "      <td>0.00028</td>\n",
       "      <td>-0.00520</td>\n",
       "      <td>0.00054</td>\n",
       "      <td>0.00370</td>\n",
       "      <td>0.00350</td>\n",
       "      <td>0.0200</td>\n",
       "      <td>0.0596</td>\n",
       "    </tr>\n",
       "    <tr>\n",
       "      <th>2</th>\n",
       "      <td>0.163</td>\n",
       "      <td>0.0016</td>\n",
       "      <td>0.2560</td>\n",
       "      <td>0.0067</td>\n",
       "      <td>0.00028</td>\n",
       "      <td>0.00520</td>\n",
       "      <td>0.00054</td>\n",
       "      <td>-0.00370</td>\n",
       "      <td>-0.00350</td>\n",
       "      <td>-0.0200</td>\n",
       "      <td>0.1920</td>\n",
       "    </tr>\n",
       "    <tr>\n",
       "      <th>3</th>\n",
       "      <td>0.163</td>\n",
       "      <td>0.0112</td>\n",
       "      <td>0.7680</td>\n",
       "      <td>0.0067</td>\n",
       "      <td>0.00028</td>\n",
       "      <td>0.01560</td>\n",
       "      <td>0.01740</td>\n",
       "      <td>0.00032</td>\n",
       "      <td>0.00036</td>\n",
       "      <td>0.0027</td>\n",
       "      <td>0.1920</td>\n",
       "    </tr>\n",
       "    <tr>\n",
       "      <th>4</th>\n",
       "      <td>0.033</td>\n",
       "      <td>0.0112</td>\n",
       "      <td>0.0797</td>\n",
       "      <td>-0.0067</td>\n",
       "      <td>0.00028</td>\n",
       "      <td>0.00044</td>\n",
       "      <td>0.00054</td>\n",
       "      <td>-0.00370</td>\n",
       "      <td>0.00350</td>\n",
       "      <td>0.0200</td>\n",
       "      <td>-0.1920</td>\n",
       "    </tr>\n",
       "  </tbody>\n",
       "</table>\n",
       "</div>"
      ],
      "text/plain": [
       "name  ind_1   ind_2   ind_3   res_1    res_2    res_3    res_4    res_5  \\\n",
       "0     0.033  0.0112  0.2560  0.0067  0.00810  0.00520  0.00054 -0.00370   \n",
       "1     0.163 -0.0112 -0.2560  0.0067  0.00028 -0.00520  0.00054  0.00370   \n",
       "2     0.163  0.0016  0.2560  0.0067  0.00028  0.00520  0.00054 -0.00370   \n",
       "3     0.163  0.0112  0.7680  0.0067  0.00028  0.01560  0.01740  0.00032   \n",
       "4     0.033  0.0112  0.0797 -0.0067  0.00028  0.00044  0.00054 -0.00370   \n",
       "\n",
       "name    res_6   pub_1   pub_2  \n",
       "0    -0.00350 -0.0200  0.1920  \n",
       "1     0.00350  0.0200  0.0596  \n",
       "2    -0.00350 -0.0200  0.1920  \n",
       "3     0.00036  0.0027  0.1920  \n",
       "4     0.00350  0.0200 -0.1920  "
      ]
     },
     "execution_count": 11,
     "metadata": {},
     "output_type": "execute_result"
    }
   ],
   "source": [
    "result_df.head()"
   ]
  },
  {
   "cell_type": "markdown",
   "metadata": {},
   "source": [
    "### Identify the problematic situations \n",
    "- simulate each previously defined situation with the basic switch configuration and trafo configuration  "
   ]
  },
  {
   "cell_type": "code",
   "execution_count": 12,
   "metadata": {
    "scrolled": true,
    "tags": []
   },
   "outputs": [
    {
     "name": "stdout",
     "output_type": "stream",
     "text": [
      "Total execution time: 0.48 minutes\n",
      "There are 436 problematic cases out of 1000\n",
      "There are  0 cases in which the simulation did not converge\n"
     ]
    }
   ],
   "source": [
    "t0 = t.time()\n",
    "\n",
    "## define the storage variables  \n",
    "Voltage_mat = np.empty(shape=[0, len(net.bus[net.bus['name'].isin(net.load['name'])])])\n",
    "Load_mat = np.empty(shape=[0, len(net.load.p_mw)])\n",
    "Problem_num = 0\n",
    "Problem_detail_mat = np.empty(shape = [0, len(net.bus) + len(net.trafo) + len(net.line)])\n",
    "\n",
    "notconverged=0           ## define a counter for not converged simulations\n",
    "\n",
    "ordered_columns = net.load['name'].tolist()\n",
    "result_df = result_df[ordered_columns]\n",
    "\n",
    "for timestamp, row in result_df.iterrows():\n",
    "    net.load['p_mw'] = row.values\n",
    "\n",
    "    try:\n",
    "        ## run the power flow simulation \n",
    "        pp.runpp(net, numba = True) #, numba=False)                                        \n",
    "\n",
    "        Trafo_overload = np.asarray(net.res_trafo.loading_percent>100)         \n",
    "        Bus_voltage_offspec = np.asarray((net.res_bus.vm_pu>1.03)|(net.res_bus.vm_pu<0.97)) \n",
    "        Line_overload = np.asarray(net.res_line.loading_percent>100) \n",
    "        PB_V = np.concatenate((Trafo_overload, Bus_voltage_offspec, Line_overload))\n",
    "\n",
    "        Problem = np.sum(PB_V) > 0 \n",
    "        \n",
    "        if Problem:                                               \n",
    "            Voltage_mat = np.append(Voltage_mat, [net.res_bus.vm_pu[net.bus['name'].isin(net.load['name'])]], axis=0)     \n",
    "            Load_mat = np.append(Load_mat, [net.load.p_mw.values], axis=0)                                           \n",
    "            Problem_detail_mat=np.append(Problem_detail_mat, PB_V) \n",
    "            Problem_num += 1 \n",
    "    except:\n",
    "        ## if not converged then increment the counter\n",
    "        notconverged += 1           \n",
    "\n",
    "t1 = t.time()\n",
    "execution_time_minutes = (t1-t0)/60\n",
    "print(f\"Total execution time: {execution_time_minutes:.2f} minutes\")\n",
    "print(\"There are\", Problem_num, \"problematic cases out of\", len(result_df))\n",
    "print(\"There are \", notconverged, \"cases in which the simulation did not converge\")"
   ]
  },
  {
   "cell_type": "markdown",
   "metadata": {},
   "source": [
    "### Save and test"
   ]
  },
  {
   "cell_type": "code",
   "execution_count": 13,
   "metadata": {},
   "outputs": [],
   "source": [
    "# save the data\n",
    "np.save(folder + \"/\" + strTime + \"_\" + \"voltage_distribution.npy\", Voltage_mat)\n",
    "np.save(folder + \"/\" + strTime + \"_\" + \"Load_distribution.npy\", Load_mat)\n",
    "np.save(folder + \"/\" + strTime + \"_\" + \"Problem_details.npy\",Problem_detail_mat)"
   ]
  },
  {
   "cell_type": "markdown",
   "metadata": {},
   "source": [
    "### Look for a solution\n",
    "for every problematic case found in the previous step\n",
    "- test all allowed switch configurations, and allowed trafo configuration \n",
    "\n",
    "Determine if there is a solution that satisfies the criteria\n",
    "\n",
    "- minimal change from base configuration\n",
    "- minimal deviation from the nominal voltage\n",
    " \n",
    "If no solution is found the configuration that minimizes the voltage deviation is used.\n",
    "\n",
    "The output training vector for the KNN has 15 variables\n",
    "[ switch 1->10 (0,1) ,trafo 1 & 2 (-2, -1, 0, 1, 2), solution or not (0,1)] "
   ]
  },
  {
   "cell_type": "code",
   "execution_count": null,
   "metadata": {
    "scrolled": true
   },
   "outputs": [
    {
     "name": "stderr",
     "output_type": "stream",
     "text": [
      "  1%|▉                                                                              | 5/436 [07:59<11:22:01, 94.94s/it]"
     ]
    }
   ],
   "source": [
    "t0 = t.time()\n",
    "\n",
    "Sol_list=[]\n",
    "\n",
    "# Define output counters\n",
    "impossible_c = 0\n",
    "possible_c = 0\n",
    "notconverged=0 \n",
    "\n",
    "# Define loop variables\n",
    "tap_pos_ranges = [range(row['tap_min'], row['tap_max'] + 1) for index, row in net.trafo.iterrows()]\n",
    "op_length = len(net.switch[net.switch.et == 'l']) + len(net.trafo) + 1 #add 1 dimension for indicating if there is a solution or not\n",
    "max_changes = len(net.switch[net.switch.et == 'l']) + sum(abs(net.trafo.tap_min - net.trafo.tap_max))\n",
    "\n",
    "# initializing arrays for storing the solutions\n",
    "min_chg_from_base_vector=np.empty(shape=[0, op_length],dtype=int)            \n",
    "min_dev_from_norm_V_vector=np.empty(shape=[0, op_length],dtype=int)\n",
    "\n",
    "for d in tqdm(range(len(Load_mat))) :\n",
    "    \n",
    "    #initializing minimal values and temporal solution arrays\n",
    "    min_dev_from_norm_V = np.inf\n",
    "    min_dev_from_norm_V_conf = np.empty(shape=[op_length],dtype=int)\n",
    "    min_dev_from_norm_pb_V = np.inf\n",
    "    min_dev_from_norm_pb_V_conf = np.empty(shape=[op_length],dtype=int)\n",
    "    min_chg_from_base = max_changes\n",
    "    min_chg_from_base_conf = np.empty(shape=[op_length],dtype=int)\n",
    "\n",
    "    #initializing counters\n",
    "    no_pb_cnt = 0\n",
    "    notconverged = 0\n",
    "    \n",
    "    net.load['p_mw'] = Load_mat[d]\n",
    "       \n",
    "    for switches in range(len(allowed_sw)):         \n",
    "        net.switch.loc[net.switch.et == 'l', 'closed'] = allowed_sw[switches]       \n",
    "        \n",
    "        supplied = len(pp.topology.unsupplied_buses(net)) == 0\n",
    "        if (supplied == False):\n",
    "            print(\"The following buses are unsupplied:\", pp.topology.unsupplied_buses(net))\n",
    "            \n",
    "        for combination in it.product(*tap_pos_ranges):\n",
    "            net.trafo.tap_pos = combination\n",
    "            \n",
    "            try: \n",
    "                pp.runpp(net, numba = True)            \n",
    "\n",
    "                Trafo_overload = np.asarray(net.res_trafo.loading_percent>100)        \n",
    "                Bus_voltage_offspec = np.asarray((net.res_bus.vm_pu>1.03)|(net.res_bus.vm_pu<0.97))  \n",
    "                Line_overload = np.asarray(net.res_line.loading_percent>100) \n",
    "                \n",
    "                PB_V = np.concatenate((Trafo_overload, Bus_voltage_offspec, Line_overload))                                      \n",
    "                no_problem = np.sum(PB_V) == 0      \n",
    "\n",
    "                ## sum the square of the deviation of the pu-voltage for all buses\n",
    "                dev_from_norm_V = np.sum((net.res_bus.vm_pu-1)**2) \n",
    "                chg_from_base = np.sum(base_switch ^ allowed_sw[switches]) + np.sum(base_trafo ^ net.trafo.tap_pos.values)\n",
    "\n",
    "                # in case no solution will be found\n",
    "                if (dev_from_norm_V < min_dev_from_norm_pb_V):\n",
    "                    min_dev_from_norm_pb_V = dev_from_norm_V\n",
    "                    min_dev_from_norm_pb_V_conf = np.append(np.append(allowed_sw[switches]*1, net.trafo.tap_pos.values.tolist()), 0)\n",
    "                    \n",
    "                if no_problem :                                 \n",
    "                    no_pb_cnt +=1  \n",
    "                        \n",
    "                    if (dev_from_norm_V < min_dev_from_norm_V):\n",
    "                        min_dev_from_norm_V = dev_from_norm_V\n",
    "                        min_dev_from_norm_V_conf = np.append(np.append(allowed_sw[switches]*1, net.trafo.tap_pos.values.tolist()), 1)\n",
    "                        \n",
    "                        ## sum all the changes to the base configuration \n",
    "                    if (chg_from_base < min_chg_from_base):  \n",
    "                        min_chg_from_base = chg_from_base      \n",
    "                        ## this configuraion is stored as the minmum for this criteria\n",
    "                        min_chg_from_base_conf = np.append(np.append(allowed_sw[switches]*1, net.trafo.tap_pos.values.tolist()), 1)\n",
    "                      \n",
    "            except:  \n",
    "                notconverged += 1 #increase the non convergence counter                       \n",
    "\n",
    "    # if a solution was found\n",
    "    if (no_pb_cnt > 0):                \n",
    "        possible_c += 1\n",
    "        \n",
    "        min_chg_from_base_vector = np.append(min_chg_from_base_vector, [min_chg_from_base_conf], axis=0)  #save the confs in matrices\n",
    "        min_dev_from_norm_V_vector = np.append(min_dev_from_norm_V_vector, [min_dev_from_norm_V_conf], axis=0)\n",
    "\n",
    "    #if there is no sultion\n",
    "    else:\n",
    "        #print(\"For Case\", d, \"there is no solution, therefore minimizing the deviation of the nominal voltage\")  \n",
    "        impossible_c += 1\n",
    "        #save the conf that minimize the V deviation for every criteria \n",
    "        min_chg_from_base_vector = np.append(min_chg_from_base_vector, [min_dev_from_norm_pb_V_conf], axis=0)\n",
    "        min_dev_from_norm_V_vector = np.append(min_dev_from_norm_V_vector, [min_dev_from_norm_pb_V_conf], axis=0) \n",
    "        \n",
    "\n",
    "print(\"-------------------------------------------------------------------------------\")\n",
    "print(\"We analyzed\", len(Load_mat), \"problematic load configurations:\")\n",
    "print(\"There are\", possible_c, \"possible cases with a solution \", 100*possible_c/(d+1),\"%\")\n",
    "print(\"There are\", impossible_c, \"impossible cases (without a solution) \", 100*impossible_c/(d+1),\"%\")\n",
    "print(\"Number of possible switching states:\", len(allowed_sw)*math.prod(abs(net.trafo.tap_min - net.trafo.tap_max) + 1))            \n",
    "##when every calculation is finished \n",
    "t1 = t.time()\n",
    "execution_time_minutes = (t1-t0)/60\n",
    "print(f\"Total execution time: {execution_time_minutes:.2f} minutes\")"
   ]
  },
  {
   "cell_type": "code",
   "execution_count": null,
   "metadata": {},
   "outputs": [],
   "source": [
    "filename_chg = \"_min_chg_from_base.npy\"\n",
    "filename_dev = \"_min_dev_from_norm_V.npy\"\n",
    "\n",
    "np.save(folder + \"/\" + strTime + \"_\" + filename_dev, min_dev_from_norm_V_vector)\n",
    "np.save(folder + \"/\" + strTime + \"_\" + filename_chg, min_chg_from_base_vector)"
   ]
  },
  {
   "cell_type": "markdown",
   "metadata": {},
   "source": [
    "## Testing the results at example of Load_mat[0]"
   ]
  },
  {
   "cell_type": "code",
   "execution_count": null,
   "metadata": {
    "scrolled": true
   },
   "outputs": [],
   "source": [
    "from pandapower.plotting.plotly import pf_res_plotly\n",
    "d=0\n",
    "net.switch.loc[net.switch.et == 'l', 'closed'] = base_switch      \n",
    "net.trafo.tap_pos = base_trafo\n",
    "print(\"Load configuration :\", Load_mat[d])\n",
    "net.load[\"p_mw\"] = Load_mat[d]\n",
    "pp.runpp(net) \n",
    "print(\"-------------\")\n",
    "print(\"Trafo loading :\", net.res_trafo.loading_percent)\n",
    "print(\"-------------\")\n",
    "print(\"Node voltage :\", net.res_bus.vm_pu)\n",
    "print(\"-------------\")\n",
    "print(\"Line loading :\", net.res_line.loading_percent)\n",
    "pf_res_plotly(net)"
   ]
  },
  {
   "cell_type": "code",
   "execution_count": null,
   "metadata": {},
   "outputs": [],
   "source": [
    "# Defining start and end index of the switches and transformers\n",
    "start_index = len(net.switch[net.switch.et == 'l'])\n",
    "end_index = start_index + len(net.trafo)\n",
    "\n",
    "# Extracting Transformer station combinations\n",
    "trafo_comb = min_dev_from_norm_V_vector[start_index:end_index]\n",
    "\n",
    "sw_comb = min_dev_from_norm_V_vector[d, :start_index].astype(bool)\n",
    "# Extracting Transformer station combinations\n",
    "trafo_comb = min_dev_from_norm_V_vector[d, start_index:end_index]\n",
    "solvable = min_dev_from_norm_V_vector[d, end_index:]\n",
    "\n",
    "print(\"Is this problem solvable?: \", solvable.astype(bool))\n",
    "print(\"Changing the switches to: \", sw_comb)\n",
    "print(\"Changing the Transformer tap positions to:\", trafo_comb)\n",
    "\n",
    "net.switch.loc[net.switch.et == 'l', 'closed'] = sw_comb       \n",
    "net.trafo.tap_pos = trafo_comb"
   ]
  },
  {
   "cell_type": "code",
   "execution_count": null,
   "metadata": {},
   "outputs": [],
   "source": [
    "min_dev_from_norm_V_vector[:,end_index:]\n",
    "\n",
    "unique_elements, counts = np.unique(min_dev_from_norm_V_vector[:,end_index:], return_counts=True)\n",
    "\n",
    "# Print results\n",
    "for element, count in zip(unique_elements, counts):\n",
    "    print(f\"{element} occurs {count} times.\")"
   ]
  },
  {
   "cell_type": "code",
   "execution_count": null,
   "metadata": {},
   "outputs": [],
   "source": [
    "pp.runpp(net) \n",
    "print(\"-------------\")\n",
    "print(\"Trafo loading :\", net.res_trafo.loading_percent)\n",
    "print(\"-------------\")\n",
    "print(\"Node voltage :\", net.res_bus.vm_pu)\n",
    "print(\"-------------\")\n",
    "print(\"Line loading :\", net.res_line.loading_percent)"
   ]
  },
  {
   "cell_type": "code",
   "execution_count": null,
   "metadata": {},
   "outputs": [],
   "source": [
    "pf_res_plotly(net)"
   ]
  }
 ],
 "metadata": {
  "kernelspec": {
   "display_name": "Python 3 (ipykernel)",
   "language": "python",
   "name": "python3"
  },
  "language_info": {
   "codemirror_mode": {
    "name": "ipython",
    "version": 3
   },
   "file_extension": ".py",
   "mimetype": "text/x-python",
   "name": "python",
   "nbconvert_exporter": "python",
   "pygments_lexer": "ipython3",
   "version": "3.10.13"
  },
  "toc": {
   "base_numbering": 1,
   "nav_menu": {},
   "number_sections": true,
   "sideBar": true,
   "skip_h1_title": false,
   "title_cell": "Table of Contents",
   "title_sidebar": "Contents",
   "toc_cell": false,
   "toc_position": {},
   "toc_section_display": true,
   "toc_window_display": false
  }
 },
 "nbformat": 4,
 "nbformat_minor": 4
}
