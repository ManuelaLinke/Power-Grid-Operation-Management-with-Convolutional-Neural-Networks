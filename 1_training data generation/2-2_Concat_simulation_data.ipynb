{
 "cells": [
  {
   "cell_type": "markdown",
   "id": "8b3276b2-b234-406e-a068-b04a1e7c1a0c",
   "metadata": {},
   "source": [
    "# Concatenating simulation data\n",
    "\n",
    "**Author:** Manuela Linke, HTWG Konstanz \n",
    "\n",
    "**Date:** 15.03.2024 \n",
    "\n",
    "**Summary:** This Script concatenates the simulated training data of different simulation runs (from the same time_series_data.feather-file). Necessary for me beauce I used three different Computers to generate the Dataset. \n",
    "\n",
    "**License:** Copyright 2024 Manuela Linke\n",
    "\n",
    "Licensed under the Apache License, Version 2.0 (the \"License\");\n",
    "you may not use this file except in compliance with the License.\n",
    "You may obtain a copy of the License at\n",
    "\n",
    "    http://www.apache.org/licenses/LICENSE-2.0\n",
    "\n",
    "Unless required by applicable law or agreed to in writing, software\n",
    "distributed under the License is distributed on an \"AS IS\" BASIS,\n",
    "WITHOUT WARRANTIES OR CONDITIONS OF ANY KIND, either express or implied.\n",
    "See the License for the specific language governing permissions and\n",
    "limitations under the License."
   ]
  },
  {
   "cell_type": "code",
   "execution_count": 4,
   "id": "90f5426d-5c02-4dcf-bd12-b97efca825c8",
   "metadata": {},
   "outputs": [],
   "source": [
    "import numpy as np\n",
    "import os\n",
    "import datetime as dt\n",
    "import time as t"
   ]
  },
  {
   "cell_type": "code",
   "execution_count": 5,
   "id": "da79d6e5-e296-4a87-86f3-a978ad2b2fb5",
   "metadata": {},
   "outputs": [],
   "source": [
    "input_path = os.path.join('data', 'preprocessed', '')\n",
    "date1 = '2024-03-22_13-06-27' # Data [0 : 18000]\n",
    "date2 = '2024-03-23_09-52-55' # Data [18000 : 93000]\n",
    "date3 = '2024-03-23_12-01-46' # Data [93000 : 120000]\n",
    "\n",
    "ts = t.time()\n",
    "newdate = dt.datetime.fromtimestamp(ts).strftime('%Y-%m-%d_%H-%M-%S')"
   ]
  },
  {
   "cell_type": "code",
   "execution_count": 7,
   "id": "7c68a0de-3f51-4ede-8ba8-fd9fa4bfb3d3",
   "metadata": {},
   "outputs": [
    {
     "name": "stdout",
     "output_type": "stream",
     "text": [
      "(7883, 11)\n",
      "(32832, 11)\n",
      "(11843, 11)\n"
     ]
    }
   ],
   "source": [
    "#Load # 1st set of generated data\n",
    "X_load1 = np.load(input_path + date1 + \"_Load_distribution.npy\")\n",
    "X_volt1 = np.load(input_path + date1 + \"_voltage_distribution.npy\")\n",
    "y_changes1 = np.load(input_path + date1 + \"__min_chg_from_base.npy\")\n",
    "\n",
    "#Load # 2nd set of generated data\n",
    "X_load2 = np.load(input_path + date2 + \"_Load_distribution.npy\")\n",
    "X_volt2 = np.load(input_path + date2 + \"_voltage_distribution.npy\")\n",
    "y_changes2 = np.load(input_path + date2 + \"__min_chg_from_base.npy\")\n",
    "\n",
    "#Load # 3rd set of generated data\n",
    "X_load3 = np.load(input_path + date3 + \"_Load_distribution.npy\")\n",
    "X_volt3 = np.load(input_path + date3 + \"_voltage_distribution.npy\")\n",
    "y_changes3 = np.load(input_path + date3 + \"__min_chg_from_base.npy\")\n",
    "\n",
    "# Checking the data\n",
    "print(X_load1.shape)\n",
    "print(X_load2.shape)\n",
    "print(X_load3.shape)"
   ]
  },
  {
   "cell_type": "code",
   "execution_count": 8,
   "id": "c8653e99-732d-47bf-bdf9-4a5d51ea571e",
   "metadata": {},
   "outputs": [
    {
     "name": "stdout",
     "output_type": "stream",
     "text": [
      "(52558, 11)\n"
     ]
    }
   ],
   "source": [
    "# Concatenate the arrays\n",
    "X_load_combined = np.concatenate((X_load1, X_load2, X_load3), axis=0)\n",
    "X_volt_combined = np.concatenate((X_volt1, X_volt2, X_volt3), axis=0)\n",
    "y_changes_combined = np.concatenate((y_changes1, y_changes2, y_changes3), axis=0)\n",
    "\n",
    "#Checking the new data\n",
    "print(X_load_combined.shape)"
   ]
  },
  {
   "cell_type": "code",
   "execution_count": 11,
   "id": "c8a9ad8c-3b64-48e4-8b93-767807282d26",
   "metadata": {},
   "outputs": [],
   "source": [
    "# saving the new data\n",
    "folder = os.path.join('data', 'preprocessed')\n",
    "np.save(folder + \"/\" + newdate + \"_\" + \"voltage_distribution.npy\", X_volt_combined)\n",
    "np.save(folder + \"/\" + newdate + \"_\" + \"Load_distribution.npy\", X_load_combined)\n",
    "np.save(folder + \"/\" + newdate + \"_\" + \"_min_chg_from_base.npy\", y_changes_combined)"
   ]
  },
  {
   "cell_type": "code",
   "execution_count": null,
   "id": "73395534-b54d-4c75-9f29-2821a2052307",
   "metadata": {},
   "outputs": [],
   "source": []
  }
 ],
 "metadata": {
  "kernelspec": {
   "display_name": "Python 3 (ipykernel)",
   "language": "python",
   "name": "python3"
  },
  "language_info": {
   "codemirror_mode": {
    "name": "ipython",
    "version": 3
   },
   "file_extension": ".py",
   "mimetype": "text/x-python",
   "name": "python",
   "nbconvert_exporter": "python",
   "pygments_lexer": "ipython3",
   "version": "3.11.5"
  }
 },
 "nbformat": 4,
 "nbformat_minor": 5
}
