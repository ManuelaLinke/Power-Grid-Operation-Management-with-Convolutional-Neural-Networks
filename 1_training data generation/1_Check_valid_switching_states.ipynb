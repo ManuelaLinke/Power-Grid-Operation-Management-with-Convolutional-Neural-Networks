{
 "cells": [
  {
   "cell_type": "markdown",
   "metadata": {},
   "source": [
    "# Check valid switching states\n",
    "\n",
    "**Author:** Manuela Linke, HTWG Konstanz \n",
    "\n",
    "**Date:** 14.04.2024 \n",
    "\n",
    "**Summary:** This Script checks the valid switching states pf all possible combinations of the states of the controllable line switches, where all buses are supplied, and saves them in a \"allowed_switches.npy\"-file. It is also possible to allow for only radial grids.\n",
    "\n",
    "**License:** Copyright 2024 Manuela Linke\n",
    "\n",
    "Licensed under the Apache License, Version 2.0 (the \"License\");\n",
    "you may not use this file except in compliance with the License.\n",
    "You may obtain a copy of the License at\n",
    "\n",
    "    http://www.apache.org/licenses/LICENSE-2.0\n",
    "\n",
    "Unless required by applicable law or agreed to in writing, software\n",
    "distributed under the License is distributed on an \"AS IS\" BASIS,\n",
    "WITHOUT WARRANTIES OR CONDITIONS OF ANY KIND, either express or implied.\n",
    "See the License for the specific language governing permissions and\n",
    "limitations under the License."
   ]
  },
  {
   "cell_type": "code",
   "execution_count": 1,
   "metadata": {},
   "outputs": [],
   "source": [
    "import networkx as nx\n",
    "import itertools\n",
    "import pandapower as pp\n",
    "import pandas as pd \n",
    "import numpy as np"
   ]
  },
  {
   "cell_type": "markdown",
   "metadata": {},
   "source": [
    "## Checking for unsupplied nodes"
   ]
  },
  {
   "cell_type": "code",
   "execution_count": 2,
   "metadata": {},
   "outputs": [],
   "source": [
    "filename=\"allowed_switches\"\n",
    "net=pp.from_pickle(\"cossmic_grid.p\")"
   ]
  },
  {
   "cell_type": "code",
   "execution_count": 3,
   "metadata": {},
   "outputs": [],
   "source": [
    "def is_supplied(net):\n",
    "    return len(pp.topology.unsupplied_buses(net)) == 0"
   ]
  },
  {
   "cell_type": "code",
   "execution_count": 4,
   "metadata": {},
   "outputs": [
    {
     "data": {
      "text/plain": [
       "True"
      ]
     },
     "execution_count": 4,
     "metadata": {},
     "output_type": "execute_result"
    }
   ],
   "source": [
    "is_supplied(net)"
   ]
  },
  {
   "cell_type": "markdown",
   "metadata": {},
   "source": [
    "## Checking for meshing in the network"
   ]
  },
  {
   "cell_type": "code",
   "execution_count": 5,
   "metadata": {},
   "outputs": [],
   "source": [
    "def is_radial(net):\n",
    "    mg = pp.topology.create_nxgraph(net, multi=False)\n",
    "    cycles = list(nx.simple_cycles(mg))\n",
    "    \n",
    "    # If there are any cycles, the grid is meshed\n",
    "    if cycles:\n",
    "       return False # Meshing found\n",
    "    else:\n",
    "       return True  # No meshing, network is radial"
   ]
  },
  {
   "cell_type": "code",
   "execution_count": 6,
   "metadata": {},
   "outputs": [
    {
     "data": {
      "text/plain": [
       "True"
      ]
     },
     "execution_count": 6,
     "metadata": {},
     "output_type": "execute_result"
    }
   ],
   "source": [
    "is_radial(net)"
   ]
  },
  {
   "cell_type": "markdown",
   "metadata": {},
   "source": [
    "## Analyse switch positions\n",
    "The function analyze_switch_positions iterates over all possible switching states and determines the valid switching states, where the grid is radial and all buses are supplied."
   ]
  },
  {
   "cell_type": "code",
   "execution_count": 7,
   "metadata": {},
   "outputs": [],
   "source": [
    "# Use this function if you want to reduce the possible number of outputs\n",
    "def analyze_switch_positions_only_3(net):\n",
    "    net.switch = net.switch[net.switch['et'] == \"l\"]\n",
    "    net.switch.closed = True\n",
    "    switch_positions = {}\n",
    "    for i, (s1, s2, s3) in enumerate(itertools.combinations(net.switch.index,3)):\n",
    "        net.switch.loc[[s1, s2, s3], 'closed'] = False\n",
    "        supplied = is_supplied(net)\n",
    "        radial = is_radial(net)\n",
    "        valid = supplied and radial \n",
    "        switch_positions[i] = {\"supplied\": supplied, \"radial\": radial,\n",
    "                               \"valid\": valid, \"switches\": [s1, s2, s3]}\n",
    "        net.switch.closed = True    \n",
    "    return pd.DataFrame.from_dict(switch_positions).T"
   ]
  },
  {
   "cell_type": "code",
   "execution_count": 8,
   "metadata": {},
   "outputs": [],
   "source": [
    "from itertools import combinations\n",
    "\n",
    "def analyze_switch_positions(net):\n",
    "    allowed_sw = []\n",
    "    net.switch = net.switch[net.switch['et'] == \"l\"]\n",
    "    sw = net.switch.index\n",
    "    sw_comb = sum([list(map(list, combinations(sw, i))) for i in range(len(sw) + 1)], [])\n",
    "    net.switch.closed=True\n",
    "    switch_positions = {} \n",
    "    for i, comb in enumerate(sw_comb[0:len(sw_comb)]):\n",
    "        net.switch.loc[comb, 'closed'] = False\n",
    "        supplied = is_supplied(net)\n",
    "        radial = is_radial(net)\n",
    "        valid = supplied and radial \n",
    "        switch_positions[i] = {\"supplied\": supplied, \"radial\": radial,\n",
    "                               \"valid\": valid, \"switches\": comb, \"nr_closed_switches\": sum(net.switch.closed) }\n",
    "        if supplied:\n",
    "            allowed_sw.append(net.switch['closed'].values)\n",
    "        net.switch.closed = True\n",
    "\n",
    "    return pd.DataFrame.from_dict(switch_positions).T, allowed_sw"
   ]
  },
  {
   "cell_type": "code",
   "execution_count": 9,
   "metadata": {},
   "outputs": [],
   "source": [
    "sw, allowed_sw = analyze_switch_positions(net)"
   ]
  },
  {
   "cell_type": "code",
   "execution_count": 10,
   "metadata": {},
   "outputs": [
    {
     "name": "stdout",
     "output_type": "stream",
     "text": [
      "number of switching states: 4096\n",
      "number of switching state with unsupplied buses: 3942\n",
      "Valid switching states: 154\n"
     ]
    }
   ],
   "source": [
    "print(\"number of switching states: %u\" % len(sw.index))\n",
    "print(\"number of switching state with unsupplied buses: %u\" % len(sw[sw.supplied == False]))\n",
    "print(\"Valid switching states: %u\"  %  (len(sw[sw.supplied])))"
   ]
  },
  {
   "cell_type": "code",
   "execution_count": 11,
   "metadata": {},
   "outputs": [],
   "source": [
    "#Testing function\n",
    "for switches in range(len(allowed_sw)):\n",
    "    net.switch.loc[net.switch.et == 'l', 'closed'] = allowed_sw[switches] \n",
    "    supplied = len(pp.topology.unsupplied_buses(net)) == 0\n",
    "    if (supplied == False):\n",
    "        print(\"The following buses are unsupplied:\", pp.topology.unsupplied_buses(net))\n",
    "        net.switch.loc[net.switch.et == 'l', 'closed'] = allowed_sw[switches]       "
   ]
  },
  {
   "cell_type": "code",
   "execution_count": 12,
   "metadata": {},
   "outputs": [],
   "source": [
    "directory = \"\"\n",
    "filename = directory + \"allowed_switches\"\n",
    "np.save(filename, allowed_sw)"
   ]
  }
 ],
 "metadata": {
  "kernelspec": {
   "display_name": "Python 3 (ipykernel)",
   "language": "python",
   "name": "python3"
  },
  "language_info": {
   "codemirror_mode": {
    "name": "ipython",
    "version": 3
   },
   "file_extension": ".py",
   "mimetype": "text/x-python",
   "name": "python",
   "nbconvert_exporter": "python",
   "pygments_lexer": "ipython3",
   "version": "3.11.5"
  },
  "toc": {
   "base_numbering": 1,
   "nav_menu": {},
   "number_sections": true,
   "sideBar": true,
   "skip_h1_title": false,
   "title_cell": "Table of Contents",
   "title_sidebar": "Contents",
   "toc_cell": false,
   "toc_position": {},
   "toc_section_display": true,
   "toc_window_display": false
  }
 },
 "nbformat": 4,
 "nbformat_minor": 4
}
