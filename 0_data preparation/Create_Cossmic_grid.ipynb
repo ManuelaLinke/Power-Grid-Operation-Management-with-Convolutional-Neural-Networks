{
 "cells": [
  {
   "cell_type": "markdown",
   "metadata": {},
   "source": [
    "# Create Cossmic Grid\n",
    "\n",
    "**Author:** Manuela Linke, HTWG Konstanz \n",
    "\n",
    "**Date:** 14.04.2024 \n",
    "\n",
    "**Summary:** This script creates a power grid in pandapower format from .csv-Files containing the necessary informations.\n",
    "\n",
    "For smooth operation the input files must must be naimed uniformly, following the example of the \"cossmic grid\".\n",
    "Notice: if a line has two switches, they are combined to one.\n",
    "\n",
    "TO USE THE SCRIPT YOU NEED TO ADAPT MANUALLY: \n",
    "* src_folder: source folder containing the input files\n",
    "* grid_name: the name of the grid\n",
    "\n",
    "INPUT FILES:\n",
    "* buses_file: buses in the grid. Attributes: name, v_nom (kV), x, y, control\n",
    "* lines_file: lines in the grid. Attributes: name, bus0, bus1, type, length (km), v_nom (kV), parallel   \n",
    "* transformers_file: transformers. Attributes: name, bus0, bus1, type, s_nom (MVA)   \n",
    "* switches_file: switch positions. Attributes: bus, element, et (l / t), closed (boolean, False = open, True = closed)\n",
    "    \n",
    "OPTIONAL INPUT:\n",
    "* loads_file: loads in the grid for testing. Attributes: name, bus p_set (MW), p_max (MW)\n",
    "* generations_file: generations in the grid for testing. Attributes: name, bus p_set (MW), p_max (MW) Static generators should always have a positive p_mw value, since all power values are given in the consumer system"
   ]
  },
  {
   "cell_type": "markdown",
   "metadata": {},
   "source": [
    "<img src=\"../doc/img/Cossmic_grid_EN-1.png\" alt=\"Cossmic Grid\" width=\"600\" height=\"400\"/>"
   ]
  },
  {
   "cell_type": "markdown",
   "metadata": {},
   "source": [
    "## Tell me the source folder location and the name of the grid"
   ]
  },
  {
   "cell_type": "code",
   "execution_count": 1,
   "metadata": {},
   "outputs": [],
   "source": [
    "import os\n",
    "\n",
    "src_folder =  os.path.join('Cossmic_grid', 'grid-data')\n",
    "grid_name =  os.path.join('', 'cossmic_grid')"
   ]
  },
  {
   "cell_type": "code",
   "execution_count": 24,
   "metadata": {},
   "outputs": [],
   "source": [
    "import pandas as pd\n",
    "import pandapower as pp\n",
    "from numpy import unique as unique\n",
    "import os\n",
    "import warnings\n",
    "warnings.filterwarnings(\"ignore\", category=FutureWarning)"
   ]
  },
  {
   "cell_type": "markdown",
   "metadata": {},
   "source": [
    "## Load input files"
   ]
  },
  {
   "cell_type": "code",
   "execution_count": 3,
   "metadata": {},
   "outputs": [],
   "source": [
    "buses = pd.read_table(src_folder + \"/buses.csv\", sep=\",\")\n",
    "lines = pd.read_table(src_folder + \"/lines.csv\", sep=\",\")\n",
    "transformers = pd.read_table(src_folder + \"/transformers.csv\", sep = \",\")\n",
    "switches = pd.read_table(src_folder + \"/switches.csv\", sep=\",\")\n",
    "\n",
    "try:\n",
    "    loads = pd.read_table(src_folder + \"/loads.csv\", sep=\",\")\n",
    "except FileNotFoundError:\n",
    "    loads = None\n",
    "try:\n",
    "    gens = pd.read_table(src_folder + \"/generations.csv\", sep=\",\")\n",
    "except FileNotFoundError:\n",
    "    gens = None"
   ]
  },
  {
   "cell_type": "markdown",
   "metadata": {},
   "source": [
    "## Create empty grid"
   ]
  },
  {
   "cell_type": "code",
   "execution_count": 4,
   "metadata": {},
   "outputs": [],
   "source": [
    "net = pp.create_empty_network()"
   ]
  },
  {
   "cell_type": "code",
   "execution_count": 5,
   "metadata": {},
   "outputs": [
    {
     "data": {
      "text/plain": [
       "This pandapower network is empty"
      ]
     },
     "execution_count": 5,
     "metadata": {},
     "output_type": "execute_result"
    }
   ],
   "source": [
    "net"
   ]
  },
  {
   "cell_type": "markdown",
   "metadata": {},
   "source": [
    "## Create buses"
   ]
  },
  {
   "cell_type": "code",
   "execution_count": 6,
   "metadata": {},
   "outputs": [],
   "source": [
    "for index, row in buses.iterrows():\n",
    "    bus_created = pp.create_bus(net,\n",
    "                          vn_kv=float(row['v_nom']),\n",
    "                          name=row['name'], \n",
    "                          geodata=(row['y'],-row['x']))\n",
    "    if row['control'] == \"Slack\":\n",
    "        pp.create_ext_grid(net, bus=bus_created, vm_pu=1.0, name=row['name'])"
   ]
  },
  {
   "cell_type": "code",
   "execution_count": 7,
   "metadata": {},
   "outputs": [
    {
     "data": {
      "text/html": [
       "<div>\n",
       "<style scoped>\n",
       "    .dataframe tbody tr th:only-of-type {\n",
       "        vertical-align: middle;\n",
       "    }\n",
       "\n",
       "    .dataframe tbody tr th {\n",
       "        vertical-align: top;\n",
       "    }\n",
       "\n",
       "    .dataframe thead th {\n",
       "        text-align: right;\n",
       "    }\n",
       "</style>\n",
       "<table border=\"1\" class=\"dataframe\">\n",
       "  <thead>\n",
       "    <tr style=\"text-align: right;\">\n",
       "      <th></th>\n",
       "      <th>name</th>\n",
       "      <th>vn_kv</th>\n",
       "      <th>type</th>\n",
       "      <th>zone</th>\n",
       "      <th>in_service</th>\n",
       "    </tr>\n",
       "  </thead>\n",
       "  <tbody>\n",
       "    <tr>\n",
       "      <th>0</th>\n",
       "      <td>ind_1</td>\n",
       "      <td>0.4</td>\n",
       "      <td>b</td>\n",
       "      <td>None</td>\n",
       "      <td>True</td>\n",
       "    </tr>\n",
       "    <tr>\n",
       "      <th>1</th>\n",
       "      <td>ind_2</td>\n",
       "      <td>0.4</td>\n",
       "      <td>b</td>\n",
       "      <td>None</td>\n",
       "      <td>True</td>\n",
       "    </tr>\n",
       "    <tr>\n",
       "      <th>2</th>\n",
       "      <td>ind_3</td>\n",
       "      <td>0.4</td>\n",
       "      <td>b</td>\n",
       "      <td>None</td>\n",
       "      <td>True</td>\n",
       "    </tr>\n",
       "    <tr>\n",
       "      <th>3</th>\n",
       "      <td>res_1</td>\n",
       "      <td>0.4</td>\n",
       "      <td>b</td>\n",
       "      <td>None</td>\n",
       "      <td>True</td>\n",
       "    </tr>\n",
       "    <tr>\n",
       "      <th>4</th>\n",
       "      <td>res_2</td>\n",
       "      <td>0.4</td>\n",
       "      <td>b</td>\n",
       "      <td>None</td>\n",
       "      <td>True</td>\n",
       "    </tr>\n",
       "    <tr>\n",
       "      <th>5</th>\n",
       "      <td>res_3</td>\n",
       "      <td>0.4</td>\n",
       "      <td>b</td>\n",
       "      <td>None</td>\n",
       "      <td>True</td>\n",
       "    </tr>\n",
       "    <tr>\n",
       "      <th>6</th>\n",
       "      <td>res_4</td>\n",
       "      <td>0.4</td>\n",
       "      <td>b</td>\n",
       "      <td>None</td>\n",
       "      <td>True</td>\n",
       "    </tr>\n",
       "    <tr>\n",
       "      <th>7</th>\n",
       "      <td>res_5</td>\n",
       "      <td>0.4</td>\n",
       "      <td>b</td>\n",
       "      <td>None</td>\n",
       "      <td>True</td>\n",
       "    </tr>\n",
       "    <tr>\n",
       "      <th>8</th>\n",
       "      <td>res_6</td>\n",
       "      <td>0.4</td>\n",
       "      <td>b</td>\n",
       "      <td>None</td>\n",
       "      <td>True</td>\n",
       "    </tr>\n",
       "    <tr>\n",
       "      <th>9</th>\n",
       "      <td>pub_1</td>\n",
       "      <td>0.4</td>\n",
       "      <td>b</td>\n",
       "      <td>None</td>\n",
       "      <td>True</td>\n",
       "    </tr>\n",
       "    <tr>\n",
       "      <th>10</th>\n",
       "      <td>pub_2</td>\n",
       "      <td>0.4</td>\n",
       "      <td>b</td>\n",
       "      <td>None</td>\n",
       "      <td>True</td>\n",
       "    </tr>\n",
       "    <tr>\n",
       "      <th>11</th>\n",
       "      <td>grid_import_1</td>\n",
       "      <td>10.0</td>\n",
       "      <td>b</td>\n",
       "      <td>None</td>\n",
       "      <td>True</td>\n",
       "    </tr>\n",
       "    <tr>\n",
       "      <th>12</th>\n",
       "      <td>grid_import_2</td>\n",
       "      <td>10.0</td>\n",
       "      <td>b</td>\n",
       "      <td>None</td>\n",
       "      <td>True</td>\n",
       "    </tr>\n",
       "  </tbody>\n",
       "</table>\n",
       "</div>"
      ],
      "text/plain": [
       "             name  vn_kv type  zone  in_service\n",
       "0           ind_1    0.4    b  None        True\n",
       "1           ind_2    0.4    b  None        True\n",
       "2           ind_3    0.4    b  None        True\n",
       "3           res_1    0.4    b  None        True\n",
       "4           res_2    0.4    b  None        True\n",
       "5           res_3    0.4    b  None        True\n",
       "6           res_4    0.4    b  None        True\n",
       "7           res_5    0.4    b  None        True\n",
       "8           res_6    0.4    b  None        True\n",
       "9           pub_1    0.4    b  None        True\n",
       "10          pub_2    0.4    b  None        True\n",
       "11  grid_import_1   10.0    b  None        True\n",
       "12  grid_import_2   10.0    b  None        True"
      ]
     },
     "execution_count": 7,
     "metadata": {},
     "output_type": "execute_result"
    }
   ],
   "source": [
    "net.bus"
   ]
  },
  {
   "cell_type": "markdown",
   "metadata": {},
   "source": [
    "## Create lines"
   ]
  },
  {
   "cell_type": "code",
   "execution_count": 8,
   "metadata": {},
   "outputs": [],
   "source": [
    "for index, row in lines.iterrows():\n",
    "    bus0 = pp.get_element_index(net, \"bus\", row.bus0)\n",
    "    bus1 = pp.get_element_index(net, \"bus\", row.bus1)\n",
    "    pp.create_line(net, \n",
    "                   from_bus=bus0, \n",
    "                   to_bus=bus1, \n",
    "                   length_km=row['length'],\n",
    "                   std_type=row['type'],\n",
    "                   name=str(row['name']),\n",
    "                   parallel=row['parallel'])  "
   ]
  },
  {
   "cell_type": "code",
   "execution_count": 9,
   "metadata": {},
   "outputs": [],
   "source": [
    "#net.line"
   ]
  },
  {
   "cell_type": "markdown",
   "metadata": {},
   "source": [
    "## Create transformers"
   ]
  },
  {
   "cell_type": "code",
   "execution_count": 10,
   "metadata": {},
   "outputs": [
    {
     "name": "stderr",
     "output_type": "stream",
     "text": [
      "C:\\Users\\mlinke\\AppData\\Local\\anaconda3\\envs\\cnn_regler\\lib\\site-packages\\pandapower\\create.py:2666: FutureWarning: A value is trying to be set on a copy of a DataFrame or Series through chained assignment using an inplace method.\n",
      "The behavior will change in pandas 3.0. This inplace method will never work because the intermediate object on which we are setting values always behaves as a copy.\n",
      "\n",
      "For example, when doing 'df[col].method(value, inplace=True)', try using 'df.method({col: value}, inplace=True)' or df[col] = df[col].method(value) instead, to perform the operation inplace on the original object.\n",
      "\n",
      "\n",
      "  net.trafo.tap_phase_shifter.fillna(False, inplace=True)\n",
      "C:\\Users\\mlinke\\AppData\\Local\\anaconda3\\envs\\cnn_regler\\lib\\site-packages\\pandapower\\create.py:2666: FutureWarning: A value is trying to be set on a copy of a DataFrame or Series through chained assignment using an inplace method.\n",
      "The behavior will change in pandas 3.0. This inplace method will never work because the intermediate object on which we are setting values always behaves as a copy.\n",
      "\n",
      "For example, when doing 'df[col].method(value, inplace=True)', try using 'df.method({col: value}, inplace=True)' or df[col] = df[col].method(value) instead, to perform the operation inplace on the original object.\n",
      "\n",
      "\n",
      "  net.trafo.tap_phase_shifter.fillna(False, inplace=True)\n"
     ]
    }
   ],
   "source": [
    "for index, row in transformers.iterrows():\n",
    "    mv_bus = pp.get_element_index(net, \"bus\", row.bus0)\n",
    "    lv_bus = pp.get_element_index(net, \"bus\", row.bus1)\n",
    "    pp.create_transformer(net, hv_bus=mv_bus, lv_bus=lv_bus, std_type=row['type'], name=str(row['name']))"
   ]
  },
  {
   "cell_type": "code",
   "execution_count": 11,
   "metadata": {},
   "outputs": [
    {
     "data": {
      "text/html": [
       "<div>\n",
       "<style scoped>\n",
       "    .dataframe tbody tr th:only-of-type {\n",
       "        vertical-align: middle;\n",
       "    }\n",
       "\n",
       "    .dataframe tbody tr th {\n",
       "        vertical-align: top;\n",
       "    }\n",
       "\n",
       "    .dataframe thead th {\n",
       "        text-align: right;\n",
       "    }\n",
       "</style>\n",
       "<table border=\"1\" class=\"dataframe\">\n",
       "  <thead>\n",
       "    <tr style=\"text-align: right;\">\n",
       "      <th></th>\n",
       "      <th>name</th>\n",
       "      <th>std_type</th>\n",
       "      <th>hv_bus</th>\n",
       "      <th>lv_bus</th>\n",
       "      <th>sn_mva</th>\n",
       "      <th>vn_hv_kv</th>\n",
       "      <th>vn_lv_kv</th>\n",
       "      <th>vk_percent</th>\n",
       "      <th>vkr_percent</th>\n",
       "      <th>pfe_kw</th>\n",
       "      <th>i0_percent</th>\n",
       "      <th>shift_degree</th>\n",
       "      <th>tap_side</th>\n",
       "      <th>tap_neutral</th>\n",
       "      <th>tap_min</th>\n",
       "      <th>tap_max</th>\n",
       "      <th>tap_step_percent</th>\n",
       "      <th>tap_step_degree</th>\n",
       "      <th>tap_pos</th>\n",
       "      <th>tap_phase_shifter</th>\n",
       "      <th>parallel</th>\n",
       "      <th>df</th>\n",
       "      <th>in_service</th>\n",
       "    </tr>\n",
       "  </thead>\n",
       "  <tbody>\n",
       "    <tr>\n",
       "      <th>0</th>\n",
       "      <td>trafo_400kVA</td>\n",
       "      <td>0.4 MVA 10/0.4 kV</td>\n",
       "      <td>11</td>\n",
       "      <td>8</td>\n",
       "      <td>0.40</td>\n",
       "      <td>10.0</td>\n",
       "      <td>0.4</td>\n",
       "      <td>4.0</td>\n",
       "      <td>1.3250</td>\n",
       "      <td>0.95</td>\n",
       "      <td>0.2375</td>\n",
       "      <td>150.0</td>\n",
       "      <td>hv</td>\n",
       "      <td>0</td>\n",
       "      <td>-2</td>\n",
       "      <td>2</td>\n",
       "      <td>2.5</td>\n",
       "      <td>0.0</td>\n",
       "      <td>0</td>\n",
       "      <td>False</td>\n",
       "      <td>1</td>\n",
       "      <td>1.0</td>\n",
       "      <td>True</td>\n",
       "    </tr>\n",
       "    <tr>\n",
       "      <th>1</th>\n",
       "      <td>trafo_630kVA</td>\n",
       "      <td>0.63 MVA 10/0.4 kV</td>\n",
       "      <td>12</td>\n",
       "      <td>1</td>\n",
       "      <td>0.63</td>\n",
       "      <td>10.0</td>\n",
       "      <td>0.4</td>\n",
       "      <td>4.0</td>\n",
       "      <td>1.0794</td>\n",
       "      <td>1.18</td>\n",
       "      <td>0.1873</td>\n",
       "      <td>150.0</td>\n",
       "      <td>hv</td>\n",
       "      <td>0</td>\n",
       "      <td>-2</td>\n",
       "      <td>2</td>\n",
       "      <td>2.5</td>\n",
       "      <td>0.0</td>\n",
       "      <td>0</td>\n",
       "      <td>False</td>\n",
       "      <td>1</td>\n",
       "      <td>1.0</td>\n",
       "      <td>True</td>\n",
       "    </tr>\n",
       "  </tbody>\n",
       "</table>\n",
       "</div>"
      ],
      "text/plain": [
       "           name            std_type  hv_bus  lv_bus  sn_mva  vn_hv_kv  \\\n",
       "0  trafo_400kVA   0.4 MVA 10/0.4 kV      11       8    0.40      10.0   \n",
       "1  trafo_630kVA  0.63 MVA 10/0.4 kV      12       1    0.63      10.0   \n",
       "\n",
       "   vn_lv_kv  vk_percent  vkr_percent  pfe_kw  i0_percent  shift_degree  \\\n",
       "0       0.4         4.0       1.3250    0.95      0.2375         150.0   \n",
       "1       0.4         4.0       1.0794    1.18      0.1873         150.0   \n",
       "\n",
       "  tap_side  tap_neutral  tap_min  tap_max  tap_step_percent  tap_step_degree  \\\n",
       "0       hv            0       -2        2               2.5              0.0   \n",
       "1       hv            0       -2        2               2.5              0.0   \n",
       "\n",
       "   tap_pos  tap_phase_shifter  parallel   df  in_service  \n",
       "0        0              False         1  1.0        True  \n",
       "1        0              False         1  1.0        True  "
      ]
     },
     "execution_count": 11,
     "metadata": {},
     "output_type": "execute_result"
    }
   ],
   "source": [
    "net.trafo"
   ]
  },
  {
   "cell_type": "markdown",
   "metadata": {},
   "source": [
    "### Create switches "
   ]
  },
  {
   "cell_type": "code",
   "execution_count": 12,
   "metadata": {},
   "outputs": [],
   "source": [
    "for index, row in switches.iterrows():\n",
    "    bus = pp.get_element_index(net, \"bus\", row.bus)\n",
    "    et = str(row['et'])\n",
    "    closed = bool(row['closed'])\n",
    "    if et == 'l' :  \n",
    "        element = pp.get_element_index(net, \"line\", row.element)\n",
    "    else :\n",
    "        element = pp.get_element_index(net, \"trafo\", row.element)\n",
    "    pp.create_switch(net, \n",
    "                     bus=bus, \n",
    "                     element=element, \n",
    "                     et=et,\n",
    "                     closed=closed)"
   ]
  },
  {
   "cell_type": "markdown",
   "metadata": {},
   "source": [
    "## Create loads and generations\n",
    "if loads_file and or generations file exists\n"
   ]
  },
  {
   "cell_type": "code",
   "execution_count": 13,
   "metadata": {},
   "outputs": [],
   "source": [
    "if loads is not None:\n",
    "    for index, row in loads.iterrows():\n",
    "        bus = pp.get_element_index(net, \"bus\", row.bus)\n",
    "        pp.create_load(net, bus=bus, p_mw=row['p_max'], name=row['name'])"
   ]
  },
  {
   "cell_type": "code",
   "execution_count": 14,
   "metadata": {},
   "outputs": [],
   "source": [
    "if gens is not None:\n",
    "    for index, row in loads.iterrows():\n",
    "        bus = pp.get_element_index(net, \"bus\", row.bus)\n",
    "        pp.create_gen(net, bus=bus, p_mw=row['p_max'], name=row['name'])"
   ]
  },
  {
   "cell_type": "code",
   "execution_count": 15,
   "metadata": {},
   "outputs": [
    {
     "data": {
      "text/html": [
       "<div>\n",
       "<style scoped>\n",
       "    .dataframe tbody tr th:only-of-type {\n",
       "        vertical-align: middle;\n",
       "    }\n",
       "\n",
       "    .dataframe tbody tr th {\n",
       "        vertical-align: top;\n",
       "    }\n",
       "\n",
       "    .dataframe thead th {\n",
       "        text-align: right;\n",
       "    }\n",
       "</style>\n",
       "<table border=\"1\" class=\"dataframe\">\n",
       "  <thead>\n",
       "    <tr style=\"text-align: right;\">\n",
       "      <th></th>\n",
       "      <th>name</th>\n",
       "      <th>bus</th>\n",
       "      <th>p_mw</th>\n",
       "      <th>q_mvar</th>\n",
       "      <th>const_z_percent</th>\n",
       "      <th>const_i_percent</th>\n",
       "      <th>sn_mva</th>\n",
       "      <th>scaling</th>\n",
       "      <th>in_service</th>\n",
       "      <th>type</th>\n",
       "    </tr>\n",
       "  </thead>\n",
       "  <tbody>\n",
       "    <tr>\n",
       "      <th>0</th>\n",
       "      <td>ind_1</td>\n",
       "      <td>0</td>\n",
       "      <td>0.1630</td>\n",
       "      <td>0.0</td>\n",
       "      <td>0.0</td>\n",
       "      <td>0.0</td>\n",
       "      <td>NaN</td>\n",
       "      <td>1.0</td>\n",
       "      <td>True</td>\n",
       "      <td>wye</td>\n",
       "    </tr>\n",
       "    <tr>\n",
       "      <th>1</th>\n",
       "      <td>ind_2</td>\n",
       "      <td>1</td>\n",
       "      <td>0.0112</td>\n",
       "      <td>0.0</td>\n",
       "      <td>0.0</td>\n",
       "      <td>0.0</td>\n",
       "      <td>NaN</td>\n",
       "      <td>1.0</td>\n",
       "      <td>True</td>\n",
       "      <td>wye</td>\n",
       "    </tr>\n",
       "    <tr>\n",
       "      <th>2</th>\n",
       "      <td>ind_3</td>\n",
       "      <td>2</td>\n",
       "      <td>0.2560</td>\n",
       "      <td>0.0</td>\n",
       "      <td>0.0</td>\n",
       "      <td>0.0</td>\n",
       "      <td>NaN</td>\n",
       "      <td>1.0</td>\n",
       "      <td>True</td>\n",
       "      <td>wye</td>\n",
       "    </tr>\n",
       "    <tr>\n",
       "      <th>3</th>\n",
       "      <td>res_1</td>\n",
       "      <td>3</td>\n",
       "      <td>0.0067</td>\n",
       "      <td>0.0</td>\n",
       "      <td>0.0</td>\n",
       "      <td>0.0</td>\n",
       "      <td>NaN</td>\n",
       "      <td>1.0</td>\n",
       "      <td>True</td>\n",
       "      <td>wye</td>\n",
       "    </tr>\n",
       "    <tr>\n",
       "      <th>4</th>\n",
       "      <td>res_2</td>\n",
       "      <td>4</td>\n",
       "      <td>0.0081</td>\n",
       "      <td>0.0</td>\n",
       "      <td>0.0</td>\n",
       "      <td>0.0</td>\n",
       "      <td>NaN</td>\n",
       "      <td>1.0</td>\n",
       "      <td>True</td>\n",
       "      <td>wye</td>\n",
       "    </tr>\n",
       "    <tr>\n",
       "      <th>5</th>\n",
       "      <td>res_3</td>\n",
       "      <td>5</td>\n",
       "      <td>0.0052</td>\n",
       "      <td>0.0</td>\n",
       "      <td>0.0</td>\n",
       "      <td>0.0</td>\n",
       "      <td>NaN</td>\n",
       "      <td>1.0</td>\n",
       "      <td>True</td>\n",
       "      <td>wye</td>\n",
       "    </tr>\n",
       "    <tr>\n",
       "      <th>6</th>\n",
       "      <td>res_4</td>\n",
       "      <td>6</td>\n",
       "      <td>0.0058</td>\n",
       "      <td>0.0</td>\n",
       "      <td>0.0</td>\n",
       "      <td>0.0</td>\n",
       "      <td>NaN</td>\n",
       "      <td>1.0</td>\n",
       "      <td>True</td>\n",
       "      <td>wye</td>\n",
       "    </tr>\n",
       "    <tr>\n",
       "      <th>7</th>\n",
       "      <td>res_5</td>\n",
       "      <td>7</td>\n",
       "      <td>0.0037</td>\n",
       "      <td>0.0</td>\n",
       "      <td>0.0</td>\n",
       "      <td>0.0</td>\n",
       "      <td>NaN</td>\n",
       "      <td>1.0</td>\n",
       "      <td>True</td>\n",
       "      <td>wye</td>\n",
       "    </tr>\n",
       "    <tr>\n",
       "      <th>8</th>\n",
       "      <td>res_6</td>\n",
       "      <td>8</td>\n",
       "      <td>0.0035</td>\n",
       "      <td>0.0</td>\n",
       "      <td>0.0</td>\n",
       "      <td>0.0</td>\n",
       "      <td>NaN</td>\n",
       "      <td>1.0</td>\n",
       "      <td>True</td>\n",
       "      <td>wye</td>\n",
       "    </tr>\n",
       "    <tr>\n",
       "      <th>9</th>\n",
       "      <td>pub_1</td>\n",
       "      <td>9</td>\n",
       "      <td>0.0200</td>\n",
       "      <td>0.0</td>\n",
       "      <td>0.0</td>\n",
       "      <td>0.0</td>\n",
       "      <td>NaN</td>\n",
       "      <td>1.0</td>\n",
       "      <td>True</td>\n",
       "      <td>wye</td>\n",
       "    </tr>\n",
       "    <tr>\n",
       "      <th>10</th>\n",
       "      <td>pub_2</td>\n",
       "      <td>10</td>\n",
       "      <td>0.1920</td>\n",
       "      <td>0.0</td>\n",
       "      <td>0.0</td>\n",
       "      <td>0.0</td>\n",
       "      <td>NaN</td>\n",
       "      <td>1.0</td>\n",
       "      <td>True</td>\n",
       "      <td>wye</td>\n",
       "    </tr>\n",
       "  </tbody>\n",
       "</table>\n",
       "</div>"
      ],
      "text/plain": [
       "     name  bus    p_mw  q_mvar  const_z_percent  const_i_percent  sn_mva  \\\n",
       "0   ind_1    0  0.1630     0.0              0.0              0.0     NaN   \n",
       "1   ind_2    1  0.0112     0.0              0.0              0.0     NaN   \n",
       "2   ind_3    2  0.2560     0.0              0.0              0.0     NaN   \n",
       "3   res_1    3  0.0067     0.0              0.0              0.0     NaN   \n",
       "4   res_2    4  0.0081     0.0              0.0              0.0     NaN   \n",
       "5   res_3    5  0.0052     0.0              0.0              0.0     NaN   \n",
       "6   res_4    6  0.0058     0.0              0.0              0.0     NaN   \n",
       "7   res_5    7  0.0037     0.0              0.0              0.0     NaN   \n",
       "8   res_6    8  0.0035     0.0              0.0              0.0     NaN   \n",
       "9   pub_1    9  0.0200     0.0              0.0              0.0     NaN   \n",
       "10  pub_2   10  0.1920     0.0              0.0              0.0     NaN   \n",
       "\n",
       "    scaling  in_service type  \n",
       "0       1.0        True  wye  \n",
       "1       1.0        True  wye  \n",
       "2       1.0        True  wye  \n",
       "3       1.0        True  wye  \n",
       "4       1.0        True  wye  \n",
       "5       1.0        True  wye  \n",
       "6       1.0        True  wye  \n",
       "7       1.0        True  wye  \n",
       "8       1.0        True  wye  \n",
       "9       1.0        True  wye  \n",
       "10      1.0        True  wye  "
      ]
     },
     "execution_count": 15,
     "metadata": {},
     "output_type": "execute_result"
    }
   ],
   "source": [
    "net.load"
   ]
  },
  {
   "cell_type": "markdown",
   "metadata": {},
   "source": [
    "## unconnected node search"
   ]
  },
  {
   "cell_type": "code",
   "execution_count": 16,
   "metadata": {},
   "outputs": [
    {
     "name": "stdout",
     "output_type": "stream",
     "text": [
      "All busses supplied\n"
     ]
    }
   ],
   "source": [
    "if len(pp.topology.unsupplied_buses(net)) == 0:\n",
    "    print(\"All busses supplied\")\n",
    "else:\n",
    "    print(\"Topology problem: node(s) \" + str(pp.topology.unsupplied_buses(net)) + \" unsupplied!\")"
   ]
  },
  {
   "cell_type": "markdown",
   "metadata": {},
   "source": [
    "## Test: power flow simulation if loads-file exists"
   ]
  },
  {
   "cell_type": "code",
   "execution_count": 17,
   "metadata": {},
   "outputs": [],
   "source": [
    "if loads is not None:\n",
    "    pp.runpp(net)"
   ]
  },
  {
   "cell_type": "code",
   "execution_count": 18,
   "metadata": {},
   "outputs": [
    {
     "data": {
      "text/plain": [
       "This pandapower network includes the following parameter tables:\n",
       "   - bus (13 element)\n",
       "   - load (11 element)\n",
       "   - switch (14 element)\n",
       "   - ext_grid (2 element)\n",
       "   - line (12 element)\n",
       "   - trafo (2 element)\n",
       "   - bus_geodata (13 element)\n",
       " and the following results tables:\n",
       "   - res_bus (13 element)\n",
       "   - res_line (12 element)\n",
       "   - res_trafo (2 element)\n",
       "   - res_ext_grid (2 element)\n",
       "   - res_load (11 element)\n",
       "   - res_switch (14 element)"
      ]
     },
     "execution_count": 18,
     "metadata": {},
     "output_type": "execute_result"
    }
   ],
   "source": [
    "net"
   ]
  },
  {
   "cell_type": "markdown",
   "metadata": {},
   "source": [
    "## Plotting the network"
   ]
  },
  {
   "cell_type": "code",
   "execution_count": 21,
   "metadata": {},
   "outputs": [],
   "source": [
    "import matplotlib.pyplot as plt\n",
    "import pandapower.plotting as plot\n",
    "from math import pi\n",
    "\n",
    "def plot_grid(net, save=False, filename='foo'):\n",
    "    \"\"\"\n",
    "    Plots a pandapower network as diagram.\n",
    "    INPUT:\n",
    "        **net** - The pandapower format network.\n",
    "    OPTIONAL:\n",
    "        **save** (bool, False) - save the plot.\n",
    "        **filename** (String, 'foo') - filename for saving the plot.\n",
    "    \"\"\"    \n",
    "    tie_lines = set(net.switch.element[~net.switch.closed.values].values)\n",
    "    lines = set(net.line.index) - tie_lines\n",
    "\n",
    "    #plot buses\n",
    "    bc = plot.create_bus_collection(net, size=.04, zorder=10, color=\"b\")\n",
    "\n",
    "    #plot lines and switches\n",
    "    lc = plot.create_line_collection(net, lines, linewidths=3., use_bus_geodata=True, color=\"k\")\n",
    "    olr = plot.create_line_collection(net, lines=tie_lines, color='k', linewidths=2.0,\n",
    "                                      use_bus_geodata=True, linestyles=\"dashed\")\n",
    "    sc = plot.create_line_switch_collection(net, size=0.1, distance_to_bus=.12, use_line_geodata=True,\n",
    "                                            zorder=12, color=\"k\")\n",
    "\n",
    "    #plot transformers\n",
    "    t31, t32 = plot.create_trafo3w_collection(net, linewidths=2.)\n",
    "    t21, t22 = plot.create_trafo_collection(net, linewidths=2.)\n",
    "\n",
    "    #plot load and generation elements\n",
    "    orient = [-pi/2 if i==2 else pi for i in range(len(net.load))]\n",
    "    lc1, lc2 = plot.create_load_collection(net, size=0.1, orientation=orient, linewidths=2.)\n",
    "    #sc1, sc2 = plot.create_sgen_collection(net, size=0.12, orientation=2*pi, linewidths=1.)\n",
    "    sl1, sl2 = plot.create_ext_grid_collection(net, size=0.4, orientation=-3*pi/2, linewidths=2.)\n",
    "    plot.draw_collections([bc, lc, olr, lc1, lc2, sc, t21, t22, t31, t32, sl1, sl2], figsize=(9,4))\n",
    "    \n",
    "    if save == True:\n",
    "        plt.savefig(filename + '.png', bbox_inches='tight')\n",
    "    #ax = draw_collections(collections, ax=ax)\n",
    "    plt.show()"
   ]
  },
  {
   "cell_type": "code",
   "execution_count": 22,
   "metadata": {},
   "outputs": [
    {
     "name": "stderr",
     "output_type": "stream",
     "text": [
      "8 in collections is of unknown type. Skipping\n",
      "9 in collections is of unknown type. Skipping\n"
     ]
    },
    {
     "data": {
      "image/png": "[encoded data removed]",
      "text/plain": [
       "<Figure size 900x400 with 1 Axes>"
      ]
     },
     "metadata": {},
     "output_type": "display_data"
    }
   ],
   "source": [
    "plot_grid(net, save = True, filename = 'cossmic_grid')"
   ]
  },
  {
   "cell_type": "markdown",
   "metadata": {
    "cell_style": "center"
   },
   "source": [
    "## Save network"
   ]
  },
  {
   "cell_type": "code",
   "execution_count": 23,
   "metadata": {},
   "outputs": [],
   "source": [
    "import os\n",
    "pp.to_pickle(net, grid_name + \".p\")"
   ]
  }
 ],
 "metadata": {
  "kernelspec": {
   "display_name": "Python 3 (ipykernel)",
   "language": "python",
   "name": "python3"
  },
  "language_info": {
   "codemirror_mode": {
    "name": "ipython",
    "version": 3
   },
   "file_extension": ".py",
   "mimetype": "text/x-python",
   "name": "python",
   "nbconvert_exporter": "python",
   "pygments_lexer": "ipython3",
   "version": "3.10.13"
  },
  "toc": {
   "base_numbering": 1,
   "nav_menu": {},
   "number_sections": true,
   "sideBar": true,
   "skip_h1_title": false,
   "title_cell": "Table of Contents",
   "title_sidebar": "Contents",
   "toc_cell": false,
   "toc_position": {},
   "toc_section_display": true,
   "toc_window_display": false
  }
 },
 "nbformat": 4,
 "nbformat_minor": 4
}
